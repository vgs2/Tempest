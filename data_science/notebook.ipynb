{
 "metadata": {
  "language_info": {
   "codemirror_mode": {
    "name": "ipython",
    "version": 3
   },
   "file_extension": ".py",
   "mimetype": "text/x-python",
   "name": "python",
   "nbconvert_exporter": "python",
   "pygments_lexer": "ipython3",
   "version": "3.8.5"
  },
  "orig_nbformat": 2,
  "kernelspec": {
   "name": "python385jvsc74a57bd000e6996aa542c6b116e8c42dcc4a8b5b9e1c7411c0569bbe48eab7d765763188",
   "display_name": "Python 3.8.5 64-bit ('base': conda)"
  }
 },
 "nbformat": 4,
 "nbformat_minor": 2,
 "cells": [
  {
   "source": [
    "# Data Scientist - AllowMe - Processo seletivo\n",
    "## Vitor Godoy Souza"
   ],
   "cell_type": "markdown",
   "metadata": {}
  },
  {
   "source": [
    "Olá, pessoal, tudo bom com vocês? Segue abaixo o desafio proposto:"
   ],
   "cell_type": "markdown",
   "metadata": {}
  },
  {
   "source": [
    "Primeiramente vamos importar tudo o que é necessário, criar as variáveis que indicam os arquivos de entrada e saída e depois ler o nosso arquivo .tsv"
   ],
   "cell_type": "markdown",
   "metadata": {}
  },
  {
   "cell_type": "code",
   "execution_count": 100,
   "metadata": {},
   "outputs": [],
   "source": [
    "import pandas as pd\n",
    "import numpy as np\n",
    "from pandas import DataFrame\n",
    "\n",
    "input_file = 'entry_copy.tsv'\n",
    "output_file = 'out.tsv'"
   ]
  },
  {
   "cell_type": "code",
   "execution_count": 103,
   "metadata": {},
   "outputs": [],
   "source": [
    "df = pd.read_csv(input_file,sep='\\t')"
   ]
  },
  {
   "source": [
    "Vamos dar uma olhada no nosso dataframe, será que está tudo certo?"
   ],
   "cell_type": "markdown",
   "metadata": {}
  },
  {
   "cell_type": "code",
   "execution_count": 104,
   "metadata": {},
   "outputs": [
    {
     "output_type": "execute_result",
     "data": {
      "text/plain": [
       "   request_time               ip                  url  \\\n",
       "0            20     111.30.132.4  /signin Mozilla/5.0   \n",
       "1            30   163.237.117.49  /signin Mozilla/5.0   \n",
       "2            65  114.130.249.124    /home Mozilla/5.0   \n",
       "3            33  114.130.249.124  /signin Mozilla/5.0   \n",
       "4            23     254.44.31.25  /logout Mozilla/5.0   \n",
       "5            10    191.55.12.130    /home Mozilla/5.0   \n",
       "6             5    39.56.168.194  /logout Mozilla/5.0   \n",
       "7           130    39.56.168.194    /home Mozilla/5.0   \n",
       "8            65   117.181.101.87    /home Mozilla/5.0   \n",
       "9            10   117.181.101.87    /home Mozilla/5.0   \n",
       "\n",
       "                                          user_agent  \\\n",
       "0  (Linux; Android 8.0.0; SM-G960F Build/R16NW) A...   \n",
       "1  (Windows NT 10.0; Win64; x64) AppleWebKit/537....   \n",
       "2  (Linux; Android 6.0.1; SM-G935S Build/MMB29K; ...   \n",
       "3  (iPhone9,4; U; CPU iPhone OS 10_0_1 like Mac O...   \n",
       "4  (Linux; Android 6.0.1; Nexus 6P Build/MMB29P) ...   \n",
       "5  (Macintosh; Intel Mac OS X 10_11_2) AppleWebKi...   \n",
       "6  (Windows NT 10.0; Win64; x64) AppleWebKit/537....   \n",
       "7  (Linux; Android 6.0.1; SM-G935S Build/MMB29K; ...   \n",
       "8  (Macintosh; Intel Mac OS X 10_11_2) AppleWebKi...   \n",
       "9  (iPhone9,4; U; CPU iPhone OS 10_0_1 like Mac O...   \n",
       "\n",
       "                           tags  blob  \n",
       "0        [\"fraud\", \"suspicius\"]     1  \n",
       "1                     [\"fraud\"]     2  \n",
       "2                 [\"suspicius\"]     3  \n",
       "3                   [\"regular\"]     4  \n",
       "4        [\"suspicius\", \"fraud\"]     1  \n",
       "5                   [\"regular\"]     1  \n",
       "6                   [\"regular\"]     1  \n",
       "7                   [\"regular\"]     1  \n",
       "8  [\"fraud\",\"suspicius\", \"tor\"]     2  \n",
       "9        [\"fraud\", \"suspicius\"]     3  "
      ],
      "text/html": "<div>\n<style scoped>\n    .dataframe tbody tr th:only-of-type {\n        vertical-align: middle;\n    }\n\n    .dataframe tbody tr th {\n        vertical-align: top;\n    }\n\n    .dataframe thead th {\n        text-align: right;\n    }\n</style>\n<table border=\"1\" class=\"dataframe\">\n  <thead>\n    <tr style=\"text-align: right;\">\n      <th></th>\n      <th>request_time</th>\n      <th>ip</th>\n      <th>url</th>\n      <th>user_agent</th>\n      <th>tags</th>\n      <th>blob</th>\n    </tr>\n  </thead>\n  <tbody>\n    <tr>\n      <th>0</th>\n      <td>20</td>\n      <td>111.30.132.4</td>\n      <td>/signin Mozilla/5.0</td>\n      <td>(Linux; Android 8.0.0; SM-G960F Build/R16NW) A...</td>\n      <td>[\"fraud\", \"suspicius\"]</td>\n      <td>1</td>\n    </tr>\n    <tr>\n      <th>1</th>\n      <td>30</td>\n      <td>163.237.117.49</td>\n      <td>/signin Mozilla/5.0</td>\n      <td>(Windows NT 10.0; Win64; x64) AppleWebKit/537....</td>\n      <td>[\"fraud\"]</td>\n      <td>2</td>\n    </tr>\n    <tr>\n      <th>2</th>\n      <td>65</td>\n      <td>114.130.249.124</td>\n      <td>/home Mozilla/5.0</td>\n      <td>(Linux; Android 6.0.1; SM-G935S Build/MMB29K; ...</td>\n      <td>[\"suspicius\"]</td>\n      <td>3</td>\n    </tr>\n    <tr>\n      <th>3</th>\n      <td>33</td>\n      <td>114.130.249.124</td>\n      <td>/signin Mozilla/5.0</td>\n      <td>(iPhone9,4; U; CPU iPhone OS 10_0_1 like Mac O...</td>\n      <td>[\"regular\"]</td>\n      <td>4</td>\n    </tr>\n    <tr>\n      <th>4</th>\n      <td>23</td>\n      <td>254.44.31.25</td>\n      <td>/logout Mozilla/5.0</td>\n      <td>(Linux; Android 6.0.1; Nexus 6P Build/MMB29P) ...</td>\n      <td>[\"suspicius\", \"fraud\"]</td>\n      <td>1</td>\n    </tr>\n    <tr>\n      <th>5</th>\n      <td>10</td>\n      <td>191.55.12.130</td>\n      <td>/home Mozilla/5.0</td>\n      <td>(Macintosh; Intel Mac OS X 10_11_2) AppleWebKi...</td>\n      <td>[\"regular\"]</td>\n      <td>1</td>\n    </tr>\n    <tr>\n      <th>6</th>\n      <td>5</td>\n      <td>39.56.168.194</td>\n      <td>/logout Mozilla/5.0</td>\n      <td>(Windows NT 10.0; Win64; x64) AppleWebKit/537....</td>\n      <td>[\"regular\"]</td>\n      <td>1</td>\n    </tr>\n    <tr>\n      <th>7</th>\n      <td>130</td>\n      <td>39.56.168.194</td>\n      <td>/home Mozilla/5.0</td>\n      <td>(Linux; Android 6.0.1; SM-G935S Build/MMB29K; ...</td>\n      <td>[\"regular\"]</td>\n      <td>1</td>\n    </tr>\n    <tr>\n      <th>8</th>\n      <td>65</td>\n      <td>117.181.101.87</td>\n      <td>/home Mozilla/5.0</td>\n      <td>(Macintosh; Intel Mac OS X 10_11_2) AppleWebKi...</td>\n      <td>[\"fraud\",\"suspicius\", \"tor\"]</td>\n      <td>2</td>\n    </tr>\n    <tr>\n      <th>9</th>\n      <td>10</td>\n      <td>117.181.101.87</td>\n      <td>/home Mozilla/5.0</td>\n      <td>(iPhone9,4; U; CPU iPhone OS 10_0_1 like Mac O...</td>\n      <td>[\"fraud\", \"suspicius\"]</td>\n      <td>3</td>\n    </tr>\n  </tbody>\n</table>\n</div>"
     },
     "metadata": {},
     "execution_count": 104
    }
   ],
   "source": [
    "df"
   ]
  },
  {
   "source": [
    "Parece que está tudo certo sim, então agora podemos começar a nos preparar para calcular a entropia e para isso vamos utilizar a seguinte fórmula:\n"
   ],
   "cell_type": "markdown",
   "metadata": {}
  },
  {
   "source": [
    "![title](img/entropy.png)"
   ],
   "cell_type": "markdown",
   "metadata": {}
  },
  {
   "cell_type": "code",
   "execution_count": 105,
   "metadata": {},
   "outputs": [],
   "source": [
    "\n",
    "def calculate_df_entropy(df:DataFrame):\n",
    "    '''\n",
    "    Esta função recebe um DataFrame e retorna a entropia de todas as colunas em um dict\n",
    "    Exemplo de entrada: qualquer DataFrame\n",
    "    Exemplo de saída: {'coluna1': 1.5, 'coluna2': 2.3 ...}\n",
    "    '''    \n",
    "    def calculate_entropy(group:object):\n",
    "        group = list(group)\n",
    "        unique = set(group)\n",
    "        probs  = [group.count(item) / len(group) for item in unique]\n",
    "        entropy = np.sum([-p*np.log2(p) for p in probs])\n",
    "        return entropy\n",
    "    \n",
    "    entropies = {a:calculate_entropy(df[a]) for a in df}\n",
    "    return entropies"
   ]
  },
  {
   "source": [
    "Agora que já temos a nossa função que calcula a entropia de todos os atributos, é só aplicar ela e salvar e salvar o resultado no arquivo que definimos lá no começo!"
   ],
   "cell_type": "markdown",
   "metadata": {}
  },
  {
   "cell_type": "code",
   "execution_count": 111,
   "metadata": {},
   "outputs": [],
   "source": [
    "save_to_tsv = pd.DataFrame(calculate_df_entropy(df), index=[0])\n",
    "save_to_tsv.to_csv(output_file, index=False, sep='\\t')"
   ]
  },
  {
   "source": [
    "Acredito que isso seja tudo.  \n",
    "Mais uma vez, agradeço a oportunidade de poder participar deste processo seletivo e espero poder participar da próxima fase!\n",
    "Desejo uma ótima semana a todos!"
   ],
   "cell_type": "markdown",
   "metadata": {}
  },
  {
   "cell_type": "code",
   "execution_count": null,
   "metadata": {},
   "outputs": [],
   "source": []
  }
 ]
}